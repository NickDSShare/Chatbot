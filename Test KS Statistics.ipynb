{
 "cells": [
  {
   "attachments": {},
   "cell_type": "markdown",
   "id": "40c46a42",
   "metadata": {},
   "source": [
    "# Calculate KS Statistics"
   ]
  },
  {
   "cell_type": "markdown",
   "id": "9bf4c7ca",
   "metadata": {},
   "source": [
    "Kolmogorov-Smirnov (KS) statistics compares the cumulative distribution of events and non-events and KS is where there is a maximum difference between the two distributions. In simple words, it helps us to understand how well our predictive model is able to discriminate between events and non-events."
   ]
  },
  {
   "cell_type": "code",
   "execution_count": 20,
   "id": "d797ad5d",
   "metadata": {},
   "outputs": [
    {
     "name": "stdout",
     "output_type": "stream",
     "text": [
      "            p  y\n",
      "0    0.063817  0\n",
      "1    0.004442  0\n",
      "2    0.150929  0\n",
      "3    0.223016  0\n",
      "4    0.067777  0\n",
      "..        ... ..\n",
      "995  0.002950  0\n",
      "996  0.014218  0\n",
      "997  0.076319  0\n",
      "998  0.006082  0\n",
      "999  0.255054  0\n",
      "\n",
      "[1000 rows x 2 columns]\n"
     ]
    }
   ],
   "source": [
    "#Get the raw data\n",
    "\n",
    "import pandas as pd\n",
    "import numpy as np\n",
    "df = pd.read_csv(\"https://raw.githubusercontent.com/NickDSShare/Model-Development/main/KS_Test_Raw_Data.csv\")\n",
    "\n",
    "print(df)"
   ]
  },
  {
   "cell_type": "code",
   "execution_count": 16,
   "id": "32e7c488",
   "metadata": {},
   "outputs": [],
   "source": [
    "#Create a function for calculating KS\n",
    "\n",
    "def ks(data,target, prob,decile):\n",
    "    data['target0'] = 1 - data[target]\n",
    "    data['bucket'] = pd.qcut(data[prob], decile)\n",
    "    grouped = data.groupby('bucket', as_index = False)\n",
    "    kstable = pd.DataFrame()\n",
    "    kstable['min_prob'] = grouped.min()[prob]\n",
    "    kstable['max_prob'] = grouped.max()[prob]\n",
    "    kstable['events']   = grouped.sum()[target]\n",
    "    kstable['nonevents'] = grouped.sum()['target0']\n",
    "    kstable = kstable.sort_values(by=\"min_prob\", ascending=False).reset_index(drop = True)\n",
    "    kstable['event_rate'] = (kstable.events / data[target].sum()).apply('{0:.2%}'.format)\n",
    "    kstable['nonevent_rate'] = (kstable.nonevents / data['target0'].sum()).apply('{0:.2%}'.format)\n",
    "    kstable['cum_eventrate']=(kstable.events / data[target].sum()).cumsum()\n",
    "    kstable['cum_noneventrate']=(kstable.nonevents / data['target0'].sum()).cumsum()\n",
    "    kstable['KS'] = np.round(kstable['cum_eventrate']-kstable['cum_noneventrate'], 3) * 100\n",
    "\n",
    "    #Formating\n",
    "    kstable['cum_eventrate']= kstable['cum_eventrate'].apply('{0:.2%}'.format)\n",
    "    kstable['cum_noneventrate']= kstable['cum_noneventrate'].apply('{0:.2%}'.format)\n",
    "    kstable.index = range(1,11)\n",
    "    kstable.index.rename('Decile', inplace=True)\n",
    "    # pd.set_option('display.max_columns', 9)\n",
    "    print(kstable)\n",
    "    \n",
    "    #Display KS\n",
    "    print(\"\")\n",
    "    print(\"KS is \" + str(max(kstable['KS']))+\"%\"+ \" at decile \" + str((kstable.index[kstable['KS']==max(kstable['KS'])][0])))"
   ]
  },
  {
   "cell_type": "code",
   "execution_count": 17,
   "id": "a842d1c5",
   "metadata": {},
   "outputs": [
    {
     "name": "stdout",
     "output_type": "stream",
     "text": [
      "        min_prob  max_prob  events  nonevents event_rate nonevent_rate  \\\n",
      "Decile                                                                   \n",
      "1       0.298894  0.975404      49         51     49.00%         5.67%   \n",
      "2       0.135598  0.298687      19         81     19.00%         9.00%   \n",
      "3       0.082170  0.135089      14         86     14.00%         9.56%   \n",
      "4       0.050369  0.082003      10         90     10.00%        10.00%   \n",
      "5       0.029415  0.050337       5         95      5.00%        10.56%   \n",
      "6       0.018343  0.029384       1         99      1.00%        11.00%   \n",
      "7       0.011504  0.018291       1         99      1.00%        11.00%   \n",
      "8       0.006976  0.011364       1         99      1.00%        11.00%   \n",
      "9       0.002929  0.006964       0        100      0.00%        11.11%   \n",
      "10      0.000073  0.002918       0        100      0.00%        11.11%   \n",
      "\n",
      "       cum_eventrate cum_noneventrate    KS  \n",
      "Decile                                       \n",
      "1             49.00%            5.67%  43.3  \n",
      "2             68.00%           14.67%  53.3  \n",
      "3             82.00%           24.22%  57.8  \n",
      "4             92.00%           34.22%  57.8  \n",
      "5             97.00%           44.78%  52.2  \n",
      "6             98.00%           55.78%  42.2  \n",
      "7             99.00%           66.78%  32.2  \n",
      "8            100.00%           77.78%  22.2  \n",
      "9            100.00%           88.89%  11.1  \n",
      "10           100.00%          100.00%   0.0  \n",
      "\n",
      "KS is 57.8% at decile 3\n"
     ]
    }
   ],
   "source": [
    "#Call the function and check the highest KS value\n",
    "\n",
    "ks(data=df,target=\"y\", prob=\"p\",decile = 10)"
   ]
  }
 ],
 "metadata": {
  "kernelspec": {
   "display_name": "Python 3",
   "language": "python",
   "name": "python3"
  },
  "language_info": {
   "codemirror_mode": {
    "name": "ipython",
    "version": 3
   },
   "file_extension": ".py",
   "mimetype": "text/x-python",
   "name": "python",
   "nbconvert_exporter": "python",
   "pygments_lexer": "ipython3",
   "version": "3.8.8"
  }
 },
 "nbformat": 4,
 "nbformat_minor": 5
}
